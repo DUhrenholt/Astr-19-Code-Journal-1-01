{
 "cells": [
  {
   "cell_type": "code",
   "execution_count": 1,
   "id": "f49c7286",
   "metadata": {},
   "outputs": [],
   "source": [
    "def main():\n",
    "    print(\"Name: Dallas Cole Mondeau Uhrenholt\")\n",
    "    print(\"Best Movie of All Time: Blazing Saddles\")\n",
    "    print(\"Favorite Food: Vanilla Milkshake\")"
   ]
  },
  {
   "cell_type": "code",
   "execution_count": 2,
   "id": "caa544a7",
   "metadata": {},
   "outputs": [
    {
     "name": "stdout",
     "output_type": "stream",
     "text": [
      "Name: Dallas Cole Mondeau Uhrenholt\n",
      "Best Movie of All Time: Blazing Saddles\n",
      "Favorite Food: Vanilla Milkshake\n"
     ]
    }
   ],
   "source": [
    "if __name__ == \"__main__\":\n",
    "    main()"
   ]
  }
 ],
 "metadata": {
  "kernelspec": {
   "display_name": "Python 3",
   "language": "python",
   "name": "python3"
  },
  "language_info": {
   "codemirror_mode": {
    "name": "ipython",
    "version": 3
   },
   "file_extension": ".py",
   "mimetype": "text/x-python",
   "name": "python",
   "nbconvert_exporter": "python",
   "pygments_lexer": "ipython3",
   "version": "3.9.4"
  }
 },
 "nbformat": 4,
 "nbformat_minor": 5
}
